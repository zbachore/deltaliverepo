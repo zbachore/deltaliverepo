{
 "cells": [
  {
   "cell_type": "code",
   "execution_count": 0,
   "metadata": {
    "application/vnd.databricks.v1+cell": {
     "cellMetadata": {},
     "inputWidgets": {},
     "nuid": "bd43ca05-5b7d-4e4a-ada0-f2ecad3434c4",
     "showTitle": false,
     "tableResultSettingsMap": {},
     "title": ""
    }
   },
   "outputs": [],
   "source": [
    "/***********************************************************************************\n",
    "Note: catalog_name and schema_name values should be set in the DLT pipeline\n",
    "settings under configurations.\n",
    "***********************************************************************************/"
   ]
  },
  {
   "cell_type": "markdown",
   "metadata": {
    "application/vnd.databricks.v1+cell": {
     "cellMetadata": {},
     "inputWidgets": {},
     "nuid": "32c6852f-471b-4d73-82df-c0077681b4ec",
     "showTitle": false,
     "tableResultSettingsMap": {},
     "title": ""
    }
   },
   "source": [
    "### Create a streaming view based on source data"
   ]
  },
  {
   "cell_type": "code",
   "execution_count": 0,
   "metadata": {
    "application/vnd.databricks.v1+cell": {
     "cellMetadata": {},
     "inputWidgets": {},
     "nuid": "0cf2d3ec-60e6-48e8-82b7-866c0495a975",
     "showTitle": false,
     "tableResultSettingsMap": {},
     "title": ""
    }
   },
   "outputs": [],
   "source": [
    "\n",
    "-- Customers Source View\n",
    "CREATE OR REFRESH STREAMING TABLE customers_source_view\n",
    "AS SELECT * FROM STREAM(${catalog_name}.${schema_name}.customers_source);\n",
    "\n",
    "-- Orders Source View\n",
    "CREATE OR REFRESH STREAMING TABLE orders_source_view\n",
    "AS SELECT * FROM STREAM(${catalog_name}.${schema_name}.orders_source);\n",
    "\n",
    "-- Products Source View\n",
    "CREATE OR REFRESH STREAMING TABLE products_source_view\n",
    "AS SELECT * FROM STREAM(${catalog_name}.${schema_name}.products_source);\n"
   ]
  },
  {
   "cell_type": "markdown",
   "metadata": {
    "application/vnd.databricks.v1+cell": {
     "cellMetadata": {},
     "inputWidgets": {},
     "nuid": "326aa743-c903-41dd-9d6d-83709e070f3f",
     "showTitle": false,
     "tableResultSettingsMap": {},
     "title": ""
    }
   },
   "source": [
    "### Create SCD Type 1 Streaming Tables"
   ]
  },
  {
   "cell_type": "code",
   "execution_count": 0,
   "metadata": {
    "application/vnd.databricks.v1+cell": {
     "cellMetadata": {},
     "inputWidgets": {},
     "nuid": "377df950-6077-49f9-a8d8-377178a5a687",
     "showTitle": false,
     "tableResultSettingsMap": {},
     "title": ""
    }
   },
   "outputs": [],
   "source": [
    "-- Customers Target Table\n",
    "CREATE OR REFRESH STREAMING TABLE ${catalog_name}.${schema_name}.customers_type1;\n",
    "\n",
    "APPLY CHANGES INTO ${catalog_name}.${schema_name}.customers_type1\n",
    "  FROM stream(${catalog_name}.${schema_name}.customers_source_view)\n",
    "  KEYS (customer_id)\n",
    "  SEQUENCE BY timestamp\n",
    "  COLUMNS * EXCEPT (timestamp)\n",
    "  STORED AS SCD TYPE 1;\n",
    "\n",
    "-- Orders Target Table\n",
    "CREATE OR REFRESH STREAMING TABLE ${catalog_name}.${schema_name}.orders_type1;\n",
    "\n",
    "APPLY CHANGES INTO ${catalog_name}.${schema_name}.orders_type1\n",
    "  FROM stream(${catalog_name}.${schema_name}.orders_source_view)\n",
    "  KEYS (order_id)\n",
    "  SEQUENCE BY timestamp\n",
    "  COLUMNS * EXCEPT (timestamp)\n",
    "  STORED AS SCD TYPE 1;\n",
    "\n",
    "-- Products Target Table\n",
    "CREATE OR REFRESH STREAMING TABLE ${catalog_name}.${schema_name}.products_type1;\n",
    "\n",
    "APPLY CHANGES INTO ${catalog_name}.${schema_name}.products_type1\n",
    "  FROM stream(${catalog_name}.${schema_name}.products_source_view)\n",
    "  KEYS (product_id)\n",
    "  SEQUENCE BY timestamp\n",
    "  COLUMNS * EXCEPT (timestamp)\n",
    "  STORED AS SCD TYPE 1;\n"
   ]
  },
  {
   "cell_type": "markdown",
   "metadata": {
    "application/vnd.databricks.v1+cell": {
     "cellMetadata": {},
     "inputWidgets": {},
     "nuid": "8d49e303-7944-48d3-a600-e098eef7fa0e",
     "showTitle": false,
     "tableResultSettingsMap": {},
     "title": ""
    }
   },
   "source": [
    "### Create SCD Type 2 Streaming Tables"
   ]
  },
  {
   "cell_type": "code",
   "execution_count": 0,
   "metadata": {
    "application/vnd.databricks.v1+cell": {
     "cellMetadata": {},
     "inputWidgets": {},
     "nuid": "58239724-789f-4255-bd74-7e7cb120e732",
     "showTitle": false,
     "tableResultSettingsMap": {},
     "title": ""
    }
   },
   "outputs": [],
   "source": [
    "-- Customers Target Table\n",
    "CREATE OR REFRESH STREAMING TABLE ${catalog_name}.${schema_name}.customers_type2;\n",
    "\n",
    "APPLY CHANGES INTO ${catalog_name}.${schema_name}.customers_type2\n",
    "  FROM stream(${catalog_name}.${schema_name}.customers_source_view)\n",
    "  KEYS (customer_id)\n",
    "  -- APPLY AS DELETE WHEN id < 5 : Using DELETE Operation on a target table will break the downstream streaming table.\n",
    "  SEQUENCE BY timestamp\n",
    "  COLUMNS * EXCEPT (timestamp)\n",
    "  STORED AS SCD TYPE 2\n",
    "  TRACK HISTORY ON * \n",
    "  EXCEPT (timestamp);\n",
    "\n",
    "-- Orders Target Table\n",
    "CREATE OR REFRESH STREAMING TABLE ${catalog_name}.${schema_name}.orders_type2;\n",
    "\n",
    "APPLY CHANGES INTO ${catalog_name}.${schema_name}.orders_type2\n",
    "  FROM stream(${catalog_name}.${schema_name}.orders_source_view)\n",
    "  KEYS (order_id)\n",
    "  SEQUENCE BY timestamp\n",
    "  COLUMNS * EXCEPT (timestamp)\n",
    "  STORED AS SCD TYPE 2\n",
    "  TRACK HISTORY ON * \n",
    "  EXCEPT (timestamp);\n",
    "\n",
    "-- Products Target Table\n",
    "CREATE OR REFRESH STREAMING TABLE ${catalog_name}.${schema_name}.products_type2;\n",
    "\n",
    "APPLY CHANGES INTO ${catalog_name}.${schema_name}.products_type2\n",
    "  FROM stream(${catalog_name}.${schema_name}.products_source_view)\n",
    "  KEYS (product_id)\n",
    "  SEQUENCE BY timestamp\n",
    "  COLUMNS * EXCEPT (timestamp)\n",
    "  STORED AS SCD TYPE 2\n",
    "  TRACK HISTORY ON * \n",
    "  EXCEPT (timestamp);\n"
   ]
  },
  {
   "cell_type": "markdown",
   "metadata": {
    "application/vnd.databricks.v1+cell": {
     "cellMetadata": {},
     "inputWidgets": {},
     "nuid": "928c0c7a-7347-48a9-8ff2-eac60afd9d31",
     "showTitle": false,
     "tableResultSettingsMap": {},
     "title": ""
    }
   },
   "source": [
    "### Create a Materialized View"
   ]
  },
  {
   "cell_type": "code",
   "execution_count": 0,
   "metadata": {
    "application/vnd.databricks.v1+cell": {
     "cellMetadata": {},
     "inputWidgets": {},
     "nuid": "54292abe-6834-4efb-b53f-9e0cd50e3845",
     "showTitle": false,
     "tableResultSettingsMap": {},
     "title": ""
    }
   },
   "outputs": [],
   "source": [
    "CREATE OR REFRESH MATERIALIZED VIEW gold_materialized_view AS\n",
    "SELECT \n",
    "    o.customer_id, \n",
    "    c.customer_name, \n",
    "    o.order_id, \n",
    "    o.product_id, \n",
    "    o.quantity, \n",
    "    o.price, \n",
    "    p.brand\n",
    "FROM \n",
    "    LIVE.orders_type1 o\n",
    "INNER JOIN \n",
    "    LIVE.customers_type1 c ON o.customer_id = c.customer_id\n",
    "INNER JOIN \n",
    "    LIVE.products_type1 p ON o.product_id = p.product_id\n",
    "    WHERE o.order_status != 'Pending'\n"
   ]
  }
 ],
 "metadata": {
  "application/vnd.databricks.v1+notebook": {
   "computePreferences": null,
   "dashboards": [],
   "environmentMetadata": {
    "base_environment": "",
    "environment_version": "2"
   },
   "inputWidgetPreferences": null,
   "language": "sql",
   "notebookMetadata": {
    "pythonIndentUnit": 4
   },
   "notebookName": "DLT Tables and Views",
   "widgets": {}
  },
  "language_info": {
   "name": "sql"
  }
 },
 "nbformat": 4,
 "nbformat_minor": 0
}
