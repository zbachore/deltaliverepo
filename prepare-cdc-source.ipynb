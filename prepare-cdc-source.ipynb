{
 "cells": [
  {
   "cell_type": "code",
   "execution_count": 0,
   "metadata": {
    "application/vnd.databricks.v1+cell": {
     "cellMetadata": {
      "byteLimit": 2048000,
      "rowLimit": 10000
     },
     "inputWidgets": {},
     "nuid": "d9b80953-8974-4a29-a0f9-c10f5a6758ff",
     "showTitle": false,
     "tableResultSettingsMap": {},
     "title": ""
    }
   },
   "outputs": [],
   "source": [
    "# Update these variables to match your Unity Catalog setup\n",
    "catalog = \"devcatalog\"\n",
    "schema = \"cdc\"\n",
    "employees_cdf_table = \"employees_cdf\"\n",
    "\n",
    "def write_employees_cdf_to_delta():\n",
    "    data = [\n",
    "        (1, \"Alex\", \"chef\", \"FR\", \"INSERT\", 1),\n",
    "        (2, \"Jessica\", \"owner\", \"US\", \"INSERT\", 2),\n",
    "        (3, \"Mikhail\", \"security\", \"UK\", \"INSERT\", 3),\n",
    "        (4, \"Gary\", \"cleaner\", \"UK\", \"INSERT\", 4),\n",
    "        (5, \"Chris\", \"owner\", \"NL\", \"INSERT\", 6),\n",
    "        (5, \"Chris\", \"manager\", \"NL\", \"UPDATE\", 5),\n",
    "        (6, \"Pat\", \"mechanic\", \"NL\", \"DELETE\", 8),\n",
    "        (6, \"Pat\", \"mechanic\", \"NL\", \"INSERT\", 7),\n",
    "        (6, \"Pat\", \"engineer\", \"NL\", \"INSERT\", 7),\n",
    "        (2, \"Jessica\", \"engineer\", \"US\", \"INSERT\", 2),\n",
    "\n",
    "    ]\n",
    "    columns = [\"id\", \"name\", \"role\", \"country\", \"operation\", \"sequenceNum\"]\n",
    "    df = spark.createDataFrame(data, columns)\n",
    "    df.write.format(\"delta\").mode(\"overwrite\").saveAsTable(f\"{catalog}.{schema}.{employees_cdf_table}\")\n",
    "\n",
    "# Now actually run it:\n",
    "write_employees_cdf_to_delta()\n"
   ]
  },
  {
   "cell_type": "code",
   "execution_count": 0,
   "metadata": {
    "application/vnd.databricks.v1+cell": {
     "cellMetadata": {
      "byteLimit": 2048000,
      "implicitDf": true,
      "rowLimit": 10000
     },
     "inputWidgets": {},
     "nuid": "d1b1e2a5-9296-4a54-86a1-d0901b9c5f5f",
     "showTitle": false,
     "tableResultSettingsMap": {},
     "title": ""
    }
   },
   "outputs": [],
   "source": [
    "%sql \n",
    "SELECT *\n",
    "FROM devcatalog.cdc.employees_cdf"
   ]
  },
  {
   "cell_type": "code",
   "execution_count": 0,
   "metadata": {
    "application/vnd.databricks.v1+cell": {
     "cellMetadata": {},
     "inputWidgets": {},
     "nuid": "f63bd45f-147f-417f-a556-3fc1d89481a2",
     "showTitle": false,
     "tableResultSettingsMap": {},
     "title": ""
    }
   },
   "outputs": [],
   "source": []
  }
 ],
 "metadata": {
  "application/vnd.databricks.v1+notebook": {
   "computePreferences": null,
   "dashboards": [],
   "environmentMetadata": {
    "base_environment": "",
    "environment_version": "2"
   },
   "inputWidgetPreferences": null,
   "language": "python",
   "notebookMetadata": {
    "mostRecentlyExecutedCommandWithImplicitDF": {
     "commandId": 8322044842194797,
     "dataframes": [
      "_sqldf"
     ]
    },
    "pythonIndentUnit": 4
   },
   "notebookName": "prepare-cdc-source",
   "widgets": {}
  },
  "language_info": {
   "name": "python"
  }
 },
 "nbformat": 4,
 "nbformat_minor": 0
}
